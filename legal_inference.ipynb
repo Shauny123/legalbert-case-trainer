{
  "cells": [
    {
      "cell_type": "markdown",
      "metadata": {},
      "source": [
        "# \ud83d\udcd8 Legal Inference Notebook\n",
        "Runs Legal-BERT, CaseLaw-BERT, and Longformer models for legal text processing."
      ]
    },
    {
      "cell_type": "code",
      "metadata": {},
      "source": [
        "!pip install transformers huggingface_hub"
      ],
      "execution_count": null,
      "outputs": []
    },
    {
      "cell_type": "code",
      "metadata": {},
      "source": [
        "from huggingface_hub import login\n",
        "login(token=\"hf_your_token_here\")"
      ],
      "execution_count": null,
      "outputs": []
    },
    {
      "cell_type": "code",
      "metadata": {},
      "source": [
        "from transformers import AutoTokenizer, AutoModel\n",
        "# Legal-BERT\n",
        "tokenizer = AutoTokenizer.from_pretrained(\"nlpaueb/legal-bert-base-uncased\", use_auth_token=True)\n",
        "model = AutoModel.from_pretrained(\"nlpaueb/legal-bert-base-uncased\", use_auth_token=True)\n",
        "inputs = tokenizer(\"PSIA protects whistleblowers.\", return_tensors=\"pt\")\n",
        "outputs = model(**inputs)\n",
        "print(\"Legal-BERT output shape:\", outputs.last_hidden_state.shape)"
      ],
      "execution_count": null,
      "outputs": []
    },
    {
      "cell_type": "code",
      "metadata": {},
      "source": [
        "# \ud83d\ude80 Accelerate setup for optimized training or inference\n",
        "!pip install accelerate\n",
        "from accelerate import Accelerator\n",
        "accelerator = Accelerator()\n",
        "print(f\"Using device: {accelerator.device}\")"
      ],
      "execution_count": null,
      "outputs": []
    },
    {
      "cell_type": "markdown",
      "metadata": {},
      "source": [
        "---\n",
        "**Generated and managed by BitstandBytes | Legal NLP Automation Pipeline**\n",
        "- Author: Shaun Muldowney\n",
        "- Project: Legal-BERT, PSIA, OSHA, NLRB Training System\n",
        "- Version: Colab Parallel Build"
      ]
    }
  ],
  "metadata": {
    "kernelspec": {
      "display_name": "Python 3",
      "language": "python",
      "name": "python3"
    },
    "language_info": {
      "name": "python",
      "version": "3.10"
    }
  },
  "nbformat": 4,
  "nbformat_minor": 5
}